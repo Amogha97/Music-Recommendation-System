{
 "cells": [
  {
   "cell_type": "markdown",
   "metadata": {},
   "source": [
    "## Dependencies"
   ]
  },
  {
   "cell_type": "code",
   "execution_count": null,
   "metadata": {},
   "outputs": [],
   "source": [
    "%pip install spotipy"
   ]
  },
  {
   "cell_type": "code",
   "execution_count": null,
   "metadata": {},
   "outputs": [],
   "source": [
    "import pandas as pd\n",
    "import numpy as np\n",
    "import json\n",
    "import re \n",
    "import sys\n",
    "import itertools\n",
    "\n",
    "from sklearn.feature_extraction.text import TfidfVectorizer\n",
    "from sklearn.metrics.pairwise import cosine_similarity\n",
    "from sklearn.preprocessing import MinMaxScaler\n",
    "import matplotlib.pyplot as plt\n",
    "\n",
    "\n",
    "import spotipy\n",
    "from spotipy.oauth2 import SpotifyClientCredentials\n",
    "from spotipy.oauth2 import SpotifyOAuth\n",
    "import spotipy.util as util\n",
    "\n",
    "import warnings\n",
    "warnings.filterwarnings(\"ignore\")"
   ]
  },
  {
   "cell_type": "code",
   "execution_count": null,
   "metadata": {},
   "outputs": [],
   "source": [
    "%matplotlib inline"
   ]
  },
  {
   "cell_type": "markdown",
   "metadata": {},
   "source": [
    "## Summary:"
   ]
  },
  {
   "cell_type": "markdown",
   "metadata": {},
   "source": [
    "## 1. Data Exploration/Preparation\n",
    "\n",
    "Downloaded datasets here:\n",
    "https://www.kaggle.com/yamaerenay/spotify-dataset-19212020-160k-tracks"
   ]
  },
  {
   "cell_type": "code",
   "execution_count": null,
   "metadata": {},
   "outputs": [],
   "source": [
    "spotify_df = pd.read_csv('data.csv')"
   ]
  },
  {
   "cell_type": "code",
   "execution_count": null,
   "metadata": {},
   "outputs": [],
   "source": [
    "spotify_df.head()"
   ]
  },
  {
   "cell_type": "markdown",
   "metadata": {},
   "source": [
    "Observations:\n",
    "1. This data is at a **song level**\n",
    "2. Many numerical values that I'll be able to use to compare movies (liveness, tempo, valence, etc)\n",
    "2. Release date will useful but I'll need to create a OHE variable for release date in 5 year increments\n",
    "3. Similar to 2, I'll need to create OHE variables for the popularity. I'll also use 5 year increments here\n",
    "4. There is nothing here related to the genre of the song which will be useful. This data alone won't help to find relavent content since this is a content based recommendation system. There is a `data_w_genres.csv` file that should have some useful information"
   ]
  },
  {
   "cell_type": "code",
   "execution_count": null,
   "metadata": {},
   "outputs": [],
   "source": [
    "data_w_genre = pd.read_csv('data_w_genres.csv')\n",
    "data_w_genre.head()"
   ]
  },
  {
   "cell_type": "markdown",
   "metadata": {},
   "source": [
    "Observations:\n",
    "1. This data is at an **artist level**\n",
    "2. There are similar continuous variables as our initial dataset but I won't use this. I'll just use the values int he previous dataset. \n",
    "3. The genres are going to be really useful here and I'll need to use it moving forward. Now, the genre column appears to be in a list format but lets see (investigate this further)"
   ]
  },
  {
   "cell_type": "code",
   "execution_count": null,
   "metadata": {
    "scrolled": true
   },
   "outputs": [],
   "source": [
    "data_w_genre.dtypes"
   ]
  },
  {
   "cell_type": "markdown",
   "metadata": {},
   "source": [
    "This checks whether or not `genres` is actually in a list format:"
   ]
  },
  {
   "cell_type": "code",
   "execution_count": null,
   "metadata": {},
   "outputs": [],
   "source": [
    "data_w_genre['genres'].values[0]"
   ]
  },
  {
   "cell_type": "code",
   "execution_count": null,
   "metadata": {},
   "outputs": [],
   "source": [
    "#To check if this is actually a list, let me index it and see what it returns\n",
    "data_w_genre['genres'].values[0][0]"
   ]
  },
  {
   "cell_type": "markdown",
   "metadata": {},
   "source": [
    "As we can see, it's actually a string that looks like a list. Now, using regex statement to extract the genre and input into a list"
   ]
  },
  {
   "cell_type": "code",
   "execution_count": null,
   "metadata": {},
   "outputs": [],
   "source": [
    "data_w_genre['genres_upd'] = data_w_genre['genres'].apply(lambda x: [re.sub(' ','_',i) for i in re.findall(r\"'([^']*)'\", x)])"
   ]
  },
  {
   "cell_type": "code",
   "execution_count": null,
   "metadata": {},
   "outputs": [],
   "source": [
    "data_w_genre['genres_upd'].values[0][0]"
   ]
  },
  {
   "cell_type": "markdown",
   "metadata": {},
   "source": [
    "Now the genre column is in a format that can actually be used\n",
    "\n",
    "This data is at a artist level and the previous dataset is at a song level. So........\n",
    "1. Explode artists column in the previous so each artist within a song will have their own row\n",
    "2. Merge `data_w_genre` to the exploded dataset in Step 1 so that the previous dataset no is enriched with genre dataset\n",
    "\n",
    "Now, We will need to extract the artists from the string list. "
   ]
  },
  {
   "cell_type": "code",
   "execution_count": null,
   "metadata": {},
   "outputs": [],
   "source": [
    "spotify_df['artists_upd_v1'] = spotify_df['artists'].apply(lambda x: re.findall(r\"'([^']*)'\", x))\n"
   ]
  },
  {
   "cell_type": "code",
   "execution_count": null,
   "metadata": {},
   "outputs": [],
   "source": [
    "spotify_df['artists'].values[0]"
   ]
  },
  {
   "cell_type": "code",
   "execution_count": null,
   "metadata": {},
   "outputs": [],
   "source": [
    "spotify_df['artists_upd_v1'].values[0][0]"
   ]
  },
  {
   "cell_type": "markdown",
   "metadata": {},
   "source": [
    "This looks good but did this work for every artist string format. Let's double check"
   ]
  },
  {
   "cell_type": "code",
   "execution_count": null,
   "metadata": {},
   "outputs": [],
   "source": [
    "spotify_df[spotify_df['artists_upd_v1'].apply(lambda x: not x)].head(5)"
   ]
  },
  {
   "cell_type": "markdown",
   "metadata": {},
   "source": [
    "So, it looks like it didn't catch all of them and quickly seen that it's because artists with an apostrophe in their title and the fact that they are enclosed in a full quotes. I'll write another regex to handle this and then combine the two"
   ]
  },
  {
   "cell_type": "code",
   "execution_count": null,
   "metadata": {},
   "outputs": [],
   "source": [
    "spotify_df['artists_upd_v2'] = spotify_df['artists'].apply(lambda x: re.findall('\\\"(.*?)\\\"',x))\n",
    "spotify_df['artists_upd'] = np.where(spotify_df['artists_upd_v1'].apply(lambda x: not x), spotify_df['artists_upd_v2'], spotify_df['artists_upd_v1'] )"
   ]
  },
  {
   "cell_type": "code",
   "execution_count": null,
   "metadata": {},
   "outputs": [],
   "source": [
    "#need to create my own song identifier because there are duplicates of the same song with different ids\n",
    "spotify_df['artists_song'] = spotify_df.apply(lambda row: row['artists_upd'][0]+row['name'],axis = 1)"
   ]
  },
  {
   "cell_type": "code",
   "execution_count": null,
   "metadata": {},
   "outputs": [],
   "source": [
    "spotify_df.sort_values(['artists_song','release_date'], ascending = False, inplace = True)"
   ]
  },
  {
   "cell_type": "code",
   "execution_count": null,
   "metadata": {},
   "outputs": [],
   "source": [
    "spotify_df[spotify_df['name']=='Adore You']"
   ]
  },
  {
   "cell_type": "code",
   "execution_count": null,
   "metadata": {},
   "outputs": [],
   "source": [
    "spotify_df.drop_duplicates('artists_song',inplace = True)"
   ]
  },
  {
   "cell_type": "code",
   "execution_count": null,
   "metadata": {},
   "outputs": [],
   "source": [
    "spotify_df[spotify_df['name']=='Adore You']"
   ]
  },
  {
   "cell_type": "markdown",
   "metadata": {
    "collapsed": true
   },
   "source": [
    "Now I can explode this column and merge"
   ]
  },
  {
   "cell_type": "code",
   "execution_count": null,
   "metadata": {},
   "outputs": [],
   "source": [
    "artists_exploded = spotify_df[['artists_upd','id']].explode('artists_upd')"
   ]
  },
  {
   "cell_type": "code",
   "execution_count": null,
   "metadata": {
    "scrolled": true
   },
   "outputs": [],
   "source": [
    "artists_exploded_enriched = artists_exploded.merge(data_w_genre, how = 'left', left_on = 'artists_upd',right_on = 'artists')\n",
    "artists_exploded_enriched_nonnull = artists_exploded_enriched[~artists_exploded_enriched.genres_upd.isnull()]"
   ]
  },
  {
   "cell_type": "code",
   "execution_count": null,
   "metadata": {},
   "outputs": [],
   "source": [
    "id_counts = artists_exploded_enriched_nonnull.groupby('id').size()\n",
    "\n",
    "ids_greater_than_2 = id_counts[id_counts > 2].index\n",
    "ids_greater_than_2"
   ]
  },
  {
   "cell_type": "code",
   "execution_count": null,
   "metadata": {},
   "outputs": [],
   "source": [
    "artists_exploded_enriched_nonnull[artists_exploded_enriched_nonnull['id'] =='0012iPKNQl1zhdYwq3iVa1']"
   ]
  },
  {
   "cell_type": "markdown",
   "metadata": {},
   "source": [
    "1. Group by on the song `id` and essentially create lists lists\n",
    "2. Consilidate these lists and output the unique values"
   ]
  },
  {
   "cell_type": "code",
   "execution_count": null,
   "metadata": {},
   "outputs": [],
   "source": [
    "artists_genres_consolidated = artists_exploded_enriched_nonnull.groupby('id')['genres_upd'].apply(list).reset_index()"
   ]
  },
  {
   "cell_type": "code",
   "execution_count": null,
   "metadata": {},
   "outputs": [],
   "source": [
    "artists_genres_consolidated['consolidates_genre_lists'] = artists_genres_consolidated['genres_upd'].apply(lambda x: list(set(list(itertools.chain.from_iterable(x)))))"
   ]
  },
  {
   "cell_type": "code",
   "execution_count": null,
   "metadata": {},
   "outputs": [],
   "source": [
    "artists_genres_consolidated.head()"
   ]
  },
  {
   "cell_type": "code",
   "execution_count": null,
   "metadata": {},
   "outputs": [],
   "source": [
    "spotify_df = spotify_df.merge(artists_genres_consolidated[['id','consolidates_genre_lists']], on = 'id',how = 'left')"
   ]
  },
  {
   "cell_type": "markdown",
   "metadata": {},
   "source": [
    "## 2. Feature Engineering\n",
    "\n",
    "### - Normalize float variables\n",
    "### - OHE Year and Popularity Variables\n",
    "### - Create TF-IDF features off of artist genres"
   ]
  },
  {
   "cell_type": "code",
   "execution_count": null,
   "metadata": {},
   "outputs": [],
   "source": [
    "spotify_df.tail()"
   ]
  },
  {
   "cell_type": "code",
   "execution_count": null,
   "metadata": {},
   "outputs": [],
   "source": [
    "spotify_df['year'] = spotify_df['release_date'].apply(lambda x: x.split('-')[0])"
   ]
  },
  {
   "cell_type": "code",
   "execution_count": null,
   "metadata": {},
   "outputs": [],
   "source": [
    "float_cols = spotify_df.dtypes[spotify_df.dtypes == 'float64'].index.values"
   ]
  },
  {
   "cell_type": "code",
   "execution_count": null,
   "metadata": {},
   "outputs": [],
   "source": [
    "ohe_cols = 'popularity'"
   ]
  },
  {
   "cell_type": "code",
   "execution_count": null,
   "metadata": {},
   "outputs": [],
   "source": [
    "spotify_df['popularity'].describe()"
   ]
  },
  {
   "cell_type": "code",
   "execution_count": null,
   "metadata": {},
   "outputs": [],
   "source": [
    "# create 5 point buckets for popularity \n",
    "spotify_df['popularity_red'] = spotify_df['popularity'].apply(lambda x: int(x/5))"
   ]
  },
  {
   "cell_type": "code",
   "execution_count": null,
   "metadata": {},
   "outputs": [],
   "source": [
    "# tfidf can't handle nulls so fill any null values with an empty list\n",
    "spotify_df['consolidates_genre_lists'] = spotify_df['consolidates_genre_lists'].apply(lambda d: d if isinstance(d, list) else [])"
   ]
  },
  {
   "cell_type": "code",
   "execution_count": null,
   "metadata": {},
   "outputs": [],
   "source": [
    "spotify_df.head()"
   ]
  },
  {
   "cell_type": "code",
   "execution_count": null,
   "metadata": {},
   "outputs": [],
   "source": [
    "#simple function to create OHE features\n",
    "#this gets passed later on\n",
    "def ohe_prep(df, column, new_name): \n",
    "    \"\"\" \n",
    "    Create One Hot Encoded features of a specific column\n",
    "\n",
    "    Parameters: \n",
    "        df (pandas dataframe): Spotify Dataframe\n",
    "        column (str): Column to be processed\n",
    "        new_name (str): new column name to be used\n",
    "        \n",
    "    Returns: \n",
    "        tf_df: One hot encoded features \n",
    "    \"\"\"\n",
    "    \n",
    "    tf_df = pd.get_dummies(df[column])\n",
    "    feature_names = tf_df.columns\n",
    "    tf_df.columns = [new_name + \"|\" + str(i) for i in feature_names]\n",
    "    tf_df.reset_index(drop = True, inplace = True)    \n",
    "    return tf_df\n"
   ]
  },
  {
   "cell_type": "code",
   "execution_count": null,
   "metadata": {},
   "outputs": [],
   "source": [
    "\n",
    "#function to build entire feature set\n",
    "def create_feature_set(df, float_cols):\n",
    "    \"\"\" \n",
    "    Process spotify df to create a final set of features that will be used to generate recommendations\n",
    "\n",
    "    Parameters: \n",
    "        df (pandas dataframe): Spotify Dataframe\n",
    "        float_cols (list(str)): List of float columns that will be scaled \n",
    "        \n",
    "    Returns: \n",
    "        final: final set of features \n",
    "    \"\"\"\n",
    "    \n",
    "    # print(df)\n",
    "    # print(float_cols)\n",
    "    #tfidf genre lists\n",
    "    tfidf = TfidfVectorizer()\n",
    "    tfidf_matrix =  tfidf.fit_transform(df['consolidates_genre_lists'].apply(lambda x: \" \".join(x)))\n",
    "    genre_df = pd.DataFrame(tfidf_matrix.toarray())\n",
    "    genre_df.columns = ['genre' + \"|\" + i for i in tfidf.get_feature_names_out()]\n",
    "    genre_df.reset_index(drop = True, inplace=True)\n",
    "    # print(genre_df)\n",
    "\n",
    "    #explicity_ohe = ohe_prep(df, 'explicit','exp')    \n",
    "    year_ohe = ohe_prep(df, 'year','year') * 0.5\n",
    "    popularity_ohe = ohe_prep(df, 'popularity_red','pop') * 0.15\n",
    "\n",
    "    #scale float columns\n",
    "    floats = df[float_cols].reset_index(drop = True)\n",
    "    scaler = MinMaxScaler()\n",
    "    floats_scaled = pd.DataFrame(scaler.fit_transform(floats), columns = floats.columns) * 0.2\n",
    "\n",
    "    #concanenate all features\n",
    "    final = pd.concat([genre_df, floats_scaled, popularity_ohe, year_ohe], axis = 1)\n",
    "     \n",
    "    #add song id\n",
    "    final['id']=df['id'].values\n",
    "    # print(final)\n",
    "    \n",
    "    return final"
   ]
  },
  {
   "cell_type": "code",
   "execution_count": null,
   "metadata": {},
   "outputs": [],
   "source": [
    "complete_feature_set = create_feature_set(spotify_df, float_cols=float_cols)#.mean(axis = 0)"
   ]
  },
  {
   "cell_type": "code",
   "execution_count": null,
   "metadata": {},
   "outputs": [],
   "source": [
    "complete_feature_set.head()"
   ]
  },
  {
   "cell_type": "markdown",
   "metadata": {},
   "source": [
    "## 3. Connect to Spotify API\n",
    "\n",
    "Links:\n",
    "1. https://developer.spotify.com/dashboard/\n",
    "2. https://spotipy.readthedocs.io/en/2.16.1/"
   ]
  },
  {
   "cell_type": "code",
   "execution_count": null,
   "metadata": {},
   "outputs": [],
   "source": [
    "import spotipy\n",
    "from spotipy.oauth2 import SpotifyOAuth\n",
    "\n",
    "\n",
    "client_id = '$$$$$$$$$$$$$$$$$$$$$$$$$$$'\n",
    "client_secret = '############################'\n",
    "redirect_uri = 'http://localhost:8889/'\n",
    "\n",
    "scope = 'user-read-private'\n",
    "\n",
    "sp_oauth = SpotifyOAuth(client_id=client_id, client_secret=client_secret, redirect_uri=redirect_uri, scope=scope)\n",
    "token_info = sp_oauth.get_access_token()\n",
    "\n",
    "if token_info:\n",
    "    access_token = token_info['access_token']\n",
    "    sp = spotipy.Spotify(auth=access_token)\n",
    "    user_info = sp.current_user()\n",
    "    print(\"Spotify username is:\", user_info['id'])\n",
    "else:\n",
    "    print(\"Can't get the token for the user\")\n"
   ]
  },
  {
   "cell_type": "code",
   "execution_count": null,
   "metadata": {},
   "outputs": [],
   "source": [
    "import spotipy.util as util\n",
    "import spotipy\n",
    "\n",
    "# Replace these with actual client ID, client secret, and redirect URI\n",
    "client_id = '$$$$$$$$$$$$$$$$$$$$$$$$$$$'\n",
    "client_secret = '############################'\n",
    "scope = 'user-library-read'\n",
    "redirect_uri = 'http://localhost:8889/'\n",
    "username = '*****************************'  # Spotify username\n",
    "\n",
    "# Obtain the user token\n",
    "try:\n",
    "    token = util.prompt_for_user_token(\n",
    "        username=username,\n",
    "        scope=scope,\n",
    "        client_id=client_id,\n",
    "        client_secret=client_secret,\n",
    "        redirect_uri=redirect_uri\n",
    "    )\n",
    "except Exception as e:\n",
    "    print(f\"Can't get token for {username}: {e}\")\n",
    "    sys.exit()\n",
    "\n",
    "# Use the token to access the Spotify API\n",
    "if token:\n",
    "    sp = spotipy.Spotify(auth=token)\n",
    "else:\n",
    "    print(\"Can't get the token for the user\")"
   ]
  },
  {
   "cell_type": "code",
   "execution_count": null,
   "metadata": {},
   "outputs": [],
   "source": [
    "# #client id and secret for my application\n",
    "# client_id = '*************'\n",
    "# client_secret= '**********************'\n"
   ]
  },
  {
   "cell_type": "code",
   "execution_count": null,
   "metadata": {},
   "outputs": [],
   "source": [
    "# scope = 'user-library-read'\n",
    "\n",
    "# if len(sys.argv) > 1:\n",
    "#     username = sys.argv[1]\n",
    "# else:\n",
    "#     print(\"Usage: %s username\" % (sys.argv[0],))\n",
    "#     sys.exit()"
   ]
  },
  {
   "cell_type": "code",
   "execution_count": null,
   "metadata": {},
   "outputs": [],
   "source": [
    "# username"
   ]
  },
  {
   "cell_type": "code",
   "execution_count": null,
   "metadata": {},
   "outputs": [],
   "source": [
    "# auth_manager = SpotifyClientCredentials(client_id=client_id, client_secret=client_secret)\n",
    "# sp = spotipy.Spotify(auth_manager=auth_manager)"
   ]
  },
  {
   "cell_type": "code",
   "execution_count": null,
   "metadata": {},
   "outputs": [],
   "source": [
    "scope"
   ]
  },
  {
   "cell_type": "code",
   "execution_count": null,
   "metadata": {},
   "outputs": [],
   "source": [
    "# token = util.prompt_for_user_token(scope, client_id= client_id, client_secret=client_secret, redirect_uri='http://localhost:8889/')"
   ]
  },
  {
   "cell_type": "code",
   "execution_count": null,
   "metadata": {},
   "outputs": [],
   "source": [
    "sp = spotipy.Spotify(auth=token)"
   ]
  },
  {
   "cell_type": "code",
   "execution_count": null,
   "metadata": {},
   "outputs": [],
   "source": [
    "#gather playlist names and images. \n",
    "#images aren't going to be used until I start building a UI\n",
    "id_name = {}\n",
    "list_photo = {}\n",
    "# for i in sp.current_user_playlists()['items']:\n",
    "\n",
    "#     id_name[i['name']] = i['uri'].split(':')[2]\n",
    "#     list_photo[i['uri'].split(':')[2]] = i['images'][0]['url']\n",
    "\n",
    "for playlist in sp.current_user_playlists()['items']:\n",
    "    id_name[playlist['name']] = playlist['uri'].split(':')[2]\n",
    "    list_photo[playlist['uri'].split(':')[2]] = playlist['images'][0]['url'] if playlist['images'] else None\n"
   ]
  },
  {
   "cell_type": "code",
   "execution_count": null,
   "metadata": {},
   "outputs": [],
   "source": [
    "playlist_df = pd.DataFrame([id_name])\n",
    "playlist_df"
   ]
  },
  {
   "cell_type": "code",
   "execution_count": null,
   "metadata": {},
   "outputs": [],
   "source": [
    "def create_necessary_outputs(playlist_name,id_dic, df):\n",
    "    \"\"\" \n",
    "    Pull songs from a specific playlist.\n",
    "\n",
    "    Parameters: \n",
    "        playlist_name (str): name of the playlist you'd like to pull from the spotify API\n",
    "        id_dic (dic): dictionary that maps playlist_name to playlist_id\n",
    "        df (pandas dataframe): spotify datafram\n",
    "        \n",
    "    Returns: \n",
    "        playlist: all songs in the playlist THAT ARE AVAILABLE IN THE KAGGLE DATASET\n",
    "    \"\"\"\n",
    "    \n",
    "    #generate playlist dataframe\n",
    "    # playlist = pd.DataFrame()\n",
    "    # playlist_name = playlist_name\n",
    "\n",
    "    # for ix, i in enumerate(sp.playlist(id_dic[playlist_name])['tracks']['items']):\n",
    "    #     #print(i['track']['artists'][0]['name'])\n",
    "    #     playlist.loc[ix, 'artist'] = i['track']['artists'][0]['name']\n",
    "    #     playlist.loc[ix, 'name'] = i['track']['name']\n",
    "    #     playlist.loc[ix, 'id'] = i['track']['id'] # ['uri'].split(':')[2]\n",
    "    #     playlist.loc[ix, 'url'] = i['track']['album']['images'][1]['url']\n",
    "    #     playlist.loc[ix, 'date_added'] = i['added_at']\n",
    "\n",
    "    # playlist['date_added'] = pd.to_datetime(playlist['date_added'])  \n",
    "    \n",
    "    # playlist = playlist[playlist['id'].isin(df['id'].values)].sort_values('date_added',ascending = False)\n",
    "    \n",
    "    # return playlist\n",
    "    \n",
    "    # Generate playlist dataframe\n",
    "    playlist = pd.DataFrame()\n",
    "\n",
    "    for ix, item in enumerate(sp.playlist(id_dic[playlist_name])['tracks']['items']):\n",
    "        track = item['track']\n",
    "        artist = track['artists'][0]['name'] if track['artists'] else 'Unknown'\n",
    "        name = track['name'] if track['name'] else 'Unknown'\n",
    "        track_id = track['id']\n",
    "        url = track['album']['images'][1]['url'] if len(track['album']['images']) > 1 else None\n",
    "        date_added = item['added_at']\n",
    "\n",
    "        playlist.loc[ix, 'artist'] = artist\n",
    "        playlist.loc[ix, 'name'] = name\n",
    "        playlist.loc[ix, 'id'] = track_id\n",
    "        playlist.loc[ix, 'url'] = url\n",
    "        playlist.loc[ix, 'date_added'] = date_added\n",
    "\n",
    "    playlist['date_added'] = pd.to_datetime(playlist['date_added'])  \n",
    "    \n",
    "    playlist = playlist[playlist['id'].isin(df['id'].values)].sort_values('date_added', ascending=False)\n",
    "    \n",
    "    return playlist"
   ]
  },
  {
   "cell_type": "code",
   "execution_count": null,
   "metadata": {},
   "outputs": [],
   "source": [
    "id_name"
   ]
  },
  {
   "cell_type": "code",
   "execution_count": null,
   "metadata": {},
   "outputs": [],
   "source": [
    "playlist_wild = create_necessary_outputs('Wildest Dreams', id_name,spotify_df)\n",
    "#playlist_chill = create_necessary_outputs('chill',id_name, spotify_df)\n",
    "#playlist_classical = create_necessary_outputs('Epic Classical',id_name, spotify_df)"
   ]
  },
  {
   "cell_type": "code",
   "execution_count": null,
   "metadata": {
    "scrolled": true
   },
   "outputs": [],
   "source": [
    "from skimage import io\n",
    "import math\n",
    "import matplotlib.pyplot as plt\n",
    "\n",
    "def visualize_songs(df):\n",
    "    \"\"\" \n",
    "    Visualize cover art of the songs in the inputted dataframe\n",
    "\n",
    "    Parameters: \n",
    "        df (pandas dataframe): Playlist Dataframe\n",
    "    \"\"\"\n",
    "    \n",
    "    temp = df['url'].values\n",
    "    plt.figure(figsize=(15,int(0.625 * len(temp))))\n",
    "    columns = 5\n",
    "    rows = math.ceil(len(temp) / columns)\n",
    "    \n",
    "    # Set a larger figure size - tight layout and subplots causing issue\n",
    "    plt.figure(figsize=(columns * 3, rows * 3))\n",
    "    \n",
    "    for i, url in enumerate(temp):\n",
    "        # plt.subplot(rows / columns + 1, columns, i + 1)\n",
    "        plt.subplot(rows, columns, i + 1)\n",
    "\n",
    "        image = io.imread(url)\n",
    "        plt.imshow(image)\n",
    "        plt.xticks(color = 'w', fontsize = 0.1)\n",
    "        plt.yticks(color = 'w', fontsize = 0.1)\n",
    "        plt.xlabel(df['name'].values[i], fontsize = 12)\n",
    "    # plt.tight_layout(h_pad=0.4, w_pad=0)\n",
    "    # plt.subplots_adjust(wspace=None, hspace=None)\n",
    "\n",
    "    plt.show()"
   ]
  },
  {
   "cell_type": "code",
   "execution_count": null,
   "metadata": {},
   "outputs": [],
   "source": [
    "playlist_wild"
   ]
  },
  {
   "cell_type": "code",
   "execution_count": null,
   "metadata": {},
   "outputs": [],
   "source": [
    "visualize_songs(playlist_wild)"
   ]
  },
  {
   "cell_type": "markdown",
   "metadata": {},
   "source": [
    "## 4. Create Playlist Vector"
   ]
  },
  {
   "cell_type": "code",
   "execution_count": null,
   "metadata": {},
   "outputs": [],
   "source": [
    "def generate_playlist_feature(complete_feature_set, playlist_df, weight_factor):\n",
    "    \"\"\" \n",
    "    Summarize a user's playlist into a single vector\n",
    "\n",
    "    Parameters: \n",
    "        complete_feature_set (pandas dataframe): Dataframe which includes all of the features for the spotify songs\n",
    "        playlist_df (pandas dataframe): playlist dataframe\n",
    "        weight_factor (float): float value that represents the recency bias. The larger the recency bias, the most priority recent songs get. Value should be close to 1. \n",
    "        \n",
    "    Returns: \n",
    "        playlist_feature_set_weighted_final (pandas series): single feature that summarizes the playlist\n",
    "        complete_feature_set_nonplaylist (pandas dataframe): \n",
    "    \"\"\"\n",
    "    \n",
    "    complete_feature_set_playlist = complete_feature_set[complete_feature_set['id'].isin(playlist_df['id'].values)]#.drop('id', axis = 1).mean(axis =0)\n",
    "    complete_feature_set_playlist = complete_feature_set_playlist.merge(playlist_df[['id','date_added']], on = 'id', how = 'inner')\n",
    "    complete_feature_set_nonplaylist = complete_feature_set[~complete_feature_set['id'].isin(playlist_df['id'].values)]#.drop('id', axis = 1)\n",
    "    \n",
    "    playlist_feature_set = complete_feature_set_playlist.sort_values('date_added',ascending=False)\n",
    "\n",
    "    most_recent_date = playlist_feature_set.iloc[0,-1]\n",
    "    \n",
    "    for ix, row in playlist_feature_set.iterrows():\n",
    "        playlist_feature_set.loc[ix,'months_from_recent'] = int((most_recent_date.to_pydatetime() - row.iloc[-1].to_pydatetime()).days / 30)\n",
    "        \n",
    "    playlist_feature_set['weight'] = playlist_feature_set['months_from_recent'].apply(lambda x: weight_factor ** (-x))\n",
    "    \n",
    "    playlist_feature_set_weighted = playlist_feature_set.copy()\n",
    "    #print(playlist_feature_set_weighted.iloc[:,:-4].columns)\n",
    "    playlist_feature_set_weighted.update(playlist_feature_set_weighted.iloc[:,:-4].mul(playlist_feature_set_weighted.weight,0))\n",
    "    playlist_feature_set_weighted_final = playlist_feature_set_weighted.iloc[:, :-4]\n",
    "    #playlist_feature_set_weighted_final['id'] = playlist_feature_set['id']\n",
    "    \n",
    "    return playlist_feature_set_weighted_final.sum(axis = 0), complete_feature_set_nonplaylist"
   ]
  },
  {
   "cell_type": "code",
   "execution_count": null,
   "metadata": {
    "scrolled": false
   },
   "outputs": [],
   "source": [
    "complete_feature_set_playlist_vector_wild, complete_feature_set_nonplaylist_wild = generate_playlist_feature(complete_feature_set, playlist_wild, 1.09)\n",
    "#complete_feature_set_playlist_vector_chill, complete_feature_set_nonplaylist_chill = generate_playlist_feature(complete_feature_set, playlist_chill, 1.09)"
   ]
  },
  {
   "cell_type": "code",
   "execution_count": null,
   "metadata": {},
   "outputs": [],
   "source": [
    "complete_feature_set_playlist_vector_wild.shape"
   ]
  },
  {
   "cell_type": "markdown",
   "metadata": {},
   "source": [
    "## 5. Generate Recommendations"
   ]
  },
  {
   "cell_type": "code",
   "execution_count": null,
   "metadata": {},
   "outputs": [],
   "source": [
    "def generate_playlist_recos(df, features, nonplaylist_features):\n",
    "    \"\"\" \n",
    "    Pull songs from a specific playlist.\n",
    "\n",
    "    Parameters: \n",
    "        df (pandas dataframe): spotify dataframe\n",
    "        features (pandas series): summarized playlist feature\n",
    "        nonplaylist_features (pandas dataframe): feature set of songs that are not in the selected playlist\n",
    "        \n",
    "    Returns: \n",
    "        non_playlist_df_top_40: Top 40 recommendations for that playlist\n",
    "    \"\"\"\n",
    "    \n",
    "    non_playlist_df = df[df['id'].isin(nonplaylist_features['id'].values)]\n",
    "    non_playlist_df['sim'] = cosine_similarity(nonplaylist_features.drop('id', axis = 1).values, features.values.reshape(1, -1))[:,0]\n",
    "    non_playlist_df_top_40 = non_playlist_df.sort_values('sim',ascending = False).head(40)\n",
    "    non_playlist_df_top_40['url'] = non_playlist_df_top_40['id'].apply(lambda x: sp.track(x)['album']['images'][1]['url'])\n",
    "    \n",
    "    return non_playlist_df_top_40"
   ]
  },
  {
   "cell_type": "code",
   "execution_count": null,
   "metadata": {},
   "outputs": [],
   "source": [
    "edm_top40 = generate_playlist_recos(spotify_df, complete_feature_set_playlist_vector_wild, complete_feature_set_nonplaylist_wild)"
   ]
  },
  {
   "cell_type": "code",
   "execution_count": null,
   "metadata": {
    "scrolled": false
   },
   "outputs": [],
   "source": [
    "edm_top40"
   ]
  },
  {
   "cell_type": "code",
   "execution_count": null,
   "metadata": {},
   "outputs": [],
   "source": [
    "visualize_songs(edm_top40)"
   ]
  },
  {
   "cell_type": "code",
   "execution_count": null,
   "metadata": {},
   "outputs": [],
   "source": [
    "# chill_top40 = generate_playlist_recos(spotify_df, complete_feature_set_playlist_vector_chill, complete_feature_set_nonplaylist_chill)"
   ]
  },
  {
   "cell_type": "code",
   "execution_count": null,
   "metadata": {},
   "outputs": [],
   "source": []
  }
 ],
 "metadata": {
  "kernelspec": {
   "display_name": "Python 3",
   "language": "python",
   "name": "python3"
  },
  "language_info": {
   "codemirror_mode": {
    "name": "ipython",
    "version": 3
   },
   "file_extension": ".py",
   "mimetype": "text/x-python",
   "name": "python",
   "nbconvert_exporter": "python",
   "pygments_lexer": "ipython3",
   "version": "3.12.4"
  }
 },
 "nbformat": 4,
 "nbformat_minor": 4
}
